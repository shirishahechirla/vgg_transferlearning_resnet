{
  "cells": [
    {
      "cell_type": "markdown",
      "metadata": {
        "id": "1b90cGgH2OOm"
      },
      "source": [
        "Name: Shirisha Hechirla(sh23v)\n",
        "- Runs on CPU or GPU (if available)"
      ]
    },
    {
      "cell_type": "markdown",
      "metadata": {
        "id": "mRZ4vISx2OOm"
      },
      "source": [
        "# A Convolutional ResNet and Residual Blocks"
      ]
    },
    {
      "cell_type": "markdown",
      "metadata": {
        "id": "tIauqZin2OOm"
      },
      "source": [
        "Please note that this example does not implement a really deep ResNet as described in literature but rather illustrates how the residual blocks described in He et al. [1] can be implemented in PyTorch.\n",
        "\n",
        "- [1] He, Kaiming, et al. \"Deep residual learning for image recognition.\" *Proceedings of the IEEE conference on computer vision and pattern recognition*. 2016."
      ]
    },
    {
      "cell_type": "markdown",
      "metadata": {
        "id": "4menSHYR2OOn"
      },
      "source": [
        "## Imports"
      ]
    },
    {
      "cell_type": "code",
      "execution_count": 9,
      "metadata": {
        "id": "IgqTp4py2OOn"
      },
      "outputs": [],
      "source": [
        "import time\n",
        "import numpy as np\n",
        "import torch\n",
        "from torch.utils.data import DataLoader\n",
        "from torchvision import datasets\n",
        "from torchvision import transforms"
      ]
    },
    {
      "cell_type": "markdown",
      "metadata": {
        "id": "bmFIZtVq2OOn"
      },
      "source": [
        "## Settings and Dataset"
      ]
    },
    {
      "cell_type": "code",
      "execution_count": 10,
      "metadata": {
        "colab": {
          "base_uri": "https://localhost:8080/"
        },
        "id": "QxapCG232OOn",
        "outputId": "f7c04797-009b-4862-d59b-522a77038371"
      },
      "outputs": [
        {
          "name": "stdout",
          "output_type": "stream",
          "text": [
            "Image batch dimensions: torch.Size([128, 1, 28, 28])\n",
            "Image label dimensions: torch.Size([128])\n"
          ]
        }
      ],
      "source": [
        "##########################\n",
        "### SETTINGS\n",
        "##########################\n",
        "\n",
        "# Device\n",
        "device = torch.device(\"cuda:1\" if torch.cuda.is_available() else \"cpu\")\n",
        "\n",
        "# Hyperparameters\n",
        "random_seed = 123\n",
        "learning_rate = 0.01\n",
        "num_epochs = 10\n",
        "batch_size = 128\n",
        "\n",
        "# Architecture\n",
        "num_classes = 10\n",
        "\n",
        "\n",
        "##########################\n",
        "### MNIST DATASET\n",
        "##########################\n",
        "\n",
        "# Note transforms.ToTensor() scales input images\n",
        "# to 0-1 range\n",
        "train_dataset = datasets.MNIST(root='data',\n",
        "                               train=True,\n",
        "                               transform=transforms.ToTensor(),\n",
        "                               download=True)\n",
        "\n",
        "test_dataset = datasets.MNIST(root='data',\n",
        "                              train=False,\n",
        "                              transform=transforms.ToTensor())\n",
        "\n",
        "\n",
        "train_loader = DataLoader(dataset=train_dataset,\n",
        "                          batch_size=batch_size,\n",
        "                          shuffle=True)\n",
        "\n",
        "test_loader = DataLoader(dataset=test_dataset,\n",
        "                         batch_size=batch_size,\n",
        "                         shuffle=False)\n",
        "\n",
        "# Checking the dataset\n",
        "for images, labels in train_loader:\n",
        "    print('Image batch dimensions:', images.shape)\n",
        "    print('Image label dimensions:', labels.shape)\n",
        "    break"
      ]
    },
    {
      "cell_type": "markdown",
      "metadata": {
        "id": "m1VUImeg2OOo"
      },
      "source": [
        "## ResNet with identity blocks"
      ]
    },
    {
      "cell_type": "markdown",
      "metadata": {
        "id": "vsvAiKaT2OOo"
      },
      "source": [
        "The following code implements the residual blocks with skip connections such that the input passed via the shortcut matches the dimensions of the main path's output, which allows the network to learn identity functions. Such a residual block is illustrated below:\n",
        "\n",
        "![](./2-resnet-ex/resnet-ex-1-1.png)"
      ]
    },
    {
      "cell_type": "code",
      "execution_count": 11,
      "metadata": {
        "id": "ysrO7mvI2OOo",
        "tags": []
      },
      "outputs": [],
      "source": [
        "##########################\n",
        "### MODEL\n",
        "##########################\n",
        "device = torch.device(\"cuda:0\" if torch.cuda.is_available() else \"cpu\")  # Change cuda:1 to cuda:0 to use the first GPU if available.\n",
        "\n",
        "class ConvNet(torch.nn.Module):\n",
        "\n",
        "    def __init__(self, num_classes):\n",
        "        super(ConvNet, self).__init__()\n",
        "\n",
        "        #########################\n",
        "        ### 1st residual block\n",
        "        #########################\n",
        "\n",
        "        self.block_1 = torch.nn.Sequential(\n",
        "                torch.nn.Conv2d(in_channels=1,\n",
        "                                out_channels=4,\n",
        "                                kernel_size=(1, 1),\n",
        "                                stride=(1, 1),\n",
        "                                padding=0),\n",
        "                torch.nn.BatchNorm2d(4),\n",
        "                torch.nn.ReLU(inplace=True),\n",
        "                torch.nn.Conv2d(in_channels=4,\n",
        "                                out_channels=1,\n",
        "                                kernel_size=(3, 3),\n",
        "                                stride=(1, 1),\n",
        "                                padding=1),\n",
        "                torch.nn.BatchNorm2d(1)\n",
        "        )\n",
        "\n",
        "        self.block_2 = torch.nn.Sequential(\n",
        "                torch.nn.Conv2d(in_channels=1,\n",
        "                                out_channels=4,\n",
        "                                kernel_size=(1, 1),\n",
        "                                stride=(1, 1),\n",
        "                                padding=0),\n",
        "                torch.nn.BatchNorm2d(4),\n",
        "                torch.nn.ReLU(inplace=True),\n",
        "                torch.nn.Conv2d(in_channels=4,\n",
        "                                out_channels=1,\n",
        "                                kernel_size=(3, 3),\n",
        "                                stride=(1, 1),\n",
        "                                padding=1),\n",
        "                torch.nn.BatchNorm2d(1)\n",
        "        )\n",
        "\n",
        "        #########################\n",
        "        ### Fully connected\n",
        "        #########################\n",
        "        self.linear_1 = torch.nn.Linear(1*28*28, num_classes)\n",
        "\n",
        "\n",
        "    def forward(self, x):\n",
        "\n",
        "        #########################\n",
        "        ### 1st residual block\n",
        "        #########################\n",
        "        shortcut = x\n",
        "        x = self.block_1(x)\n",
        "        x = torch.nn.functional.relu(x + shortcut)\n",
        "\n",
        "        #########################\n",
        "        ### 2nd residual block\n",
        "        #########################\n",
        "        shortcut = x\n",
        "        x = self.block_2(x)\n",
        "        x = torch.nn.functional.relu(x + shortcut)\n",
        "\n",
        "        #########################\n",
        "        ### Fully connected\n",
        "        #########################\n",
        "        logits = self.linear_1(x.view(-1,  1*28*28))\n",
        "        return logits\n",
        "\n",
        "\n",
        "torch.manual_seed(random_seed)\n",
        "model = ConvNet(num_classes=num_classes)\n",
        "model = model.to(device)\n",
        "\n",
        "optimizer = torch.optim.Adam(model.parameters(), lr=learning_rate)"
      ]
    },
    {
      "cell_type": "markdown",
      "metadata": {
        "id": "qC40f1td2OOo"
      },
      "source": [
        "### Training"
      ]
    },
    {
      "cell_type": "code",
      "execution_count": 12,
      "metadata": {
        "colab": {
          "base_uri": "https://localhost:8080/"
        },
        "id": "Qr_HnNFO2OOp",
        "outputId": "47ea0683-2ff1-4982-f3bc-9920ec550196"
      },
      "outputs": [
        {
          "name": "stdout",
          "output_type": "stream",
          "text": [
            "Epoch: 001/010 | Batch 000/469 | Cost: 2.6800\n",
            "Epoch: 001/010 | Batch 250/469 | Cost: 0.3122\n",
            "Epoch: 001/010 training accuracy: 91.42%\n",
            "Time elapsed: 0.26 min\n",
            "Epoch: 002/010 | Batch 000/469 | Cost: 0.3250\n",
            "Epoch: 002/010 | Batch 250/469 | Cost: 0.2086\n",
            "Epoch: 002/010 training accuracy: 91.83%\n",
            "Time elapsed: 0.49 min\n",
            "Epoch: 003/010 | Batch 000/469 | Cost: 0.2090\n",
            "Epoch: 003/010 | Batch 250/469 | Cost: 0.2803\n",
            "Epoch: 003/010 training accuracy: 92.40%\n",
            "Time elapsed: 0.73 min\n",
            "Epoch: 004/010 | Batch 000/469 | Cost: 0.2816\n",
            "Epoch: 004/010 | Batch 250/469 | Cost: 0.2981\n",
            "Epoch: 004/010 training accuracy: 92.84%\n",
            "Time elapsed: 0.98 min\n",
            "Epoch: 005/010 | Batch 000/469 | Cost: 0.3553\n",
            "Epoch: 005/010 | Batch 250/469 | Cost: 0.2754\n",
            "Epoch: 005/010 training accuracy: 93.01%\n",
            "Time elapsed: 1.20 min\n",
            "Epoch: 006/010 | Batch 000/469 | Cost: 0.2594\n",
            "Epoch: 006/010 | Batch 250/469 | Cost: 0.2303\n",
            "Epoch: 006/010 training accuracy: 93.00%\n",
            "Time elapsed: 1.43 min\n",
            "Epoch: 007/010 | Batch 000/469 | Cost: 0.2148\n",
            "Epoch: 007/010 | Batch 250/469 | Cost: 0.1520\n",
            "Epoch: 007/010 training accuracy: 92.32%\n",
            "Time elapsed: 1.65 min\n",
            "Epoch: 008/010 | Batch 000/469 | Cost: 0.3869\n",
            "Epoch: 008/010 | Batch 250/469 | Cost: 0.3037\n",
            "Epoch: 008/010 training accuracy: 88.86%\n",
            "Time elapsed: 1.88 min\n",
            "Epoch: 009/010 | Batch 000/469 | Cost: 0.2282\n",
            "Epoch: 009/010 | Batch 250/469 | Cost: 0.1700\n",
            "Epoch: 009/010 training accuracy: 93.78%\n",
            "Time elapsed: 2.10 min\n",
            "Epoch: 010/010 | Batch 000/469 | Cost: 0.1429\n",
            "Epoch: 010/010 | Batch 250/469 | Cost: 0.3165\n",
            "Epoch: 010/010 training accuracy: 93.44%\n",
            "Time elapsed: 2.33 min\n",
            "Total Training Time: 2.33 min\n"
          ]
        }
      ],
      "source": [
        "def compute_accuracy(model, data_loader):\n",
        "    correct_pred, num_examples = 0, 0\n",
        "    for i, (features, targets) in enumerate(data_loader):\n",
        "        features = features.to(device)\n",
        "        targets = targets.to(device)\n",
        "        logits = model(features)\n",
        "        _, predicted_labels = torch.max(logits, 1)\n",
        "        num_examples += targets.size(0)\n",
        "        correct_pred += (predicted_labels == targets).sum()\n",
        "    return correct_pred.float()/num_examples * 100\n",
        "\n",
        "\n",
        "start_time = time.time()\n",
        "for epoch in range(num_epochs):\n",
        "    model = model.train()\n",
        "    for batch_idx, (features, targets) in enumerate(train_loader):\n",
        "\n",
        "        features = features.to(device)\n",
        "        targets = targets.to(device)\n",
        "\n",
        "        ### FORWARD AND BACK PROP\n",
        "        logits = model(features)\n",
        "        cost = torch.nn.functional.cross_entropy(logits, targets)\n",
        "        optimizer.zero_grad()\n",
        "\n",
        "        cost.backward()\n",
        "\n",
        "        ### UPDATE MODEL PARAMETERS\n",
        "        optimizer.step()\n",
        "\n",
        "        ### LOGGING\n",
        "        if not batch_idx % 250:\n",
        "            print ('Epoch: %03d/%03d | Batch %03d/%03d | Cost: %.4f'\n",
        "                   %(epoch+1, num_epochs, batch_idx,\n",
        "                     len(train_loader), cost))\n",
        "\n",
        "    model = model.eval() # eval mode to prevent upd. batchnorm params during inference\n",
        "    with torch.set_grad_enabled(False): # save memory during inference\n",
        "        print('Epoch: %03d/%03d training accuracy: %.2f%%' % (\n",
        "              epoch+1, num_epochs,\n",
        "              compute_accuracy(model, train_loader)))\n",
        "\n",
        "    print('Time elapsed: %.2f min' % ((time.time() - start_time)/60))\n",
        "\n",
        "print('Total Training Time: %.2f min' % ((time.time() - start_time)/60))"
      ]
    },
    {
      "cell_type": "code",
      "execution_count": 13,
      "metadata": {
        "colab": {
          "base_uri": "https://localhost:8080/"
        },
        "id": "_Sm5wHLF2OOp",
        "outputId": "e93a8488-13a5-4338-c160-5e85921f078a"
      },
      "outputs": [
        {
          "name": "stdout",
          "output_type": "stream",
          "text": [
            "Test accuracy: 92.29%\n"
          ]
        }
      ],
      "source": [
        "print('Test accuracy: %.2f%%' % (compute_accuracy(model, test_loader)))"
      ]
    },
    {
      "cell_type": "markdown",
      "metadata": {
        "id": "E4LVC6i22OOp"
      },
      "source": [
        "## ResNet with convolutional blocks for resizing"
      ]
    },
    {
      "cell_type": "markdown",
      "metadata": {
        "id": "Il3hcd2o2OOp"
      },
      "source": [
        "The following code implements the residual blocks with skip connections such that the input passed via the shortcut matches is resized to dimensions of the main path's output. Such a residual block is illustrated below:\n",
        "\n",
        "![](./2-resnet-ex/resnet-ex-1-2.png)"
      ]
    },
    {
      "cell_type": "code",
      "execution_count": 14,
      "metadata": {
        "id": "UDLXjWz22OOp"
      },
      "outputs": [],
      "source": [
        "class ResidualBlock(torch.nn.Module):\n",
        "    \"\"\" Helper Class\"\"\"\n",
        "\n",
        "    def __init__(self, channels):\n",
        "\n",
        "        super(ResidualBlock, self).__init__()\n",
        "\n",
        "        self.block = torch.nn.Sequential(\n",
        "                torch.nn.Conv2d(in_channels=channels[0],\n",
        "                                out_channels=channels[1],\n",
        "                                kernel_size=(3, 3),\n",
        "                                stride=(2, 2),\n",
        "                                padding=1),\n",
        "                torch.nn.BatchNorm2d(channels[1]),\n",
        "                torch.nn.ReLU(inplace=True),\n",
        "                torch.nn.Conv2d(in_channels=channels[1],\n",
        "                                out_channels=channels[2],\n",
        "                                kernel_size=(1, 1),\n",
        "                                stride=(1, 1),\n",
        "                                padding=0),\n",
        "                torch.nn.BatchNorm2d(channels[2])\n",
        "        )\n",
        "\n",
        "        self.shortcut = torch.nn.Sequential(\n",
        "                torch.nn.Conv2d(in_channels=channels[0],\n",
        "                                out_channels=channels[2],\n",
        "                                kernel_size=(1, 1),\n",
        "                                stride=(2, 2),\n",
        "                                padding=0),\n",
        "                torch.nn.BatchNorm2d(channels[2])\n",
        "        )\n",
        "\n",
        "    def forward(self, x):\n",
        "        shortcut = x\n",
        "\n",
        "        block = self.block(x)\n",
        "        shortcut = self.shortcut(x)\n",
        "        x = torch.nn.functional.relu(block+shortcut)\n",
        "\n",
        "        return x"
      ]
    },
    {
      "cell_type": "code",
      "execution_count": 15,
      "metadata": {
        "id": "o69Tyf2G2OOp"
      },
      "outputs": [],
      "source": [
        "##########################\n",
        "### MODEL\n",
        "##########################\n",
        "\n",
        "\n",
        "\n",
        "class ConvNet(torch.nn.Module):\n",
        "\n",
        "    def __init__(self, num_classes):\n",
        "        super(ConvNet, self).__init__()\n",
        "\n",
        "        self.residual_block_1 = ResidualBlock(channels=[1, 4, 8])\n",
        "        self.residual_block_2 = ResidualBlock(channels=[8, 16, 32])\n",
        "\n",
        "        self.linear_1 = torch.nn.Linear(7*7*32, num_classes)\n",
        "\n",
        "\n",
        "    def forward(self, x):\n",
        "\n",
        "        out = self.residual_block_1(x)\n",
        "        out = self.residual_block_2(out)\n",
        "\n",
        "        logits = self.linear_1(out.view(-1, 7*7*32))\n",
        "        return logits\n",
        "\n",
        "\n",
        "torch.manual_seed(random_seed)\n",
        "model = ConvNet(num_classes=num_classes)\n",
        "\n",
        "model.to(device)\n",
        "optimizer = torch.optim.Adam(model.parameters(), lr=learning_rate)"
      ]
    },
    {
      "cell_type": "markdown",
      "metadata": {
        "id": "HnXGMqRn2OOp"
      },
      "source": [
        "### Training"
      ]
    },
    {
      "cell_type": "code",
      "execution_count": 16,
      "metadata": {
        "colab": {
          "base_uri": "https://localhost:8080/"
        },
        "id": "wen6d0qe2OOp",
        "outputId": "0dfe09bc-7c4d-4fc1-f386-8f93e4e2f8c2"
      },
      "outputs": [
        {
          "name": "stdout",
          "output_type": "stream",
          "text": [
            "Epoch: 001/010 | Batch 000/468 | Cost: 2.3534\n",
            "Epoch: 001/010 | Batch 050/468 | Cost: 0.2691\n",
            "Epoch: 001/010 | Batch 100/468 | Cost: 0.2402\n",
            "Epoch: 001/010 | Batch 150/468 | Cost: 0.0942\n",
            "Epoch: 001/010 | Batch 200/468 | Cost: 0.0642\n",
            "Epoch: 001/010 | Batch 250/468 | Cost: 0.1168\n",
            "Epoch: 001/010 | Batch 300/468 | Cost: 0.2595\n",
            "Epoch: 001/010 | Batch 350/468 | Cost: 0.1783\n",
            "Epoch: 001/010 | Batch 400/468 | Cost: 0.0525\n",
            "Epoch: 001/010 | Batch 450/468 | Cost: 0.1086\n",
            "Epoch: 001/010 training accuracy: 97.11%\n",
            "Epoch: 002/010 | Batch 000/468 | Cost: 0.1136\n",
            "Epoch: 002/010 | Batch 050/468 | Cost: 0.0411\n",
            "Epoch: 002/010 | Batch 100/468 | Cost: 0.0992\n",
            "Epoch: 002/010 | Batch 150/468 | Cost: 0.1663\n",
            "Epoch: 002/010 | Batch 200/468 | Cost: 0.1083\n",
            "Epoch: 002/010 | Batch 250/468 | Cost: 0.0322\n",
            "Epoch: 002/010 | Batch 300/468 | Cost: 0.0426\n",
            "Epoch: 002/010 | Batch 350/468 | Cost: 0.0324\n",
            "Epoch: 002/010 | Batch 400/468 | Cost: 0.0213\n",
            "Epoch: 002/010 | Batch 450/468 | Cost: 0.1044\n",
            "Epoch: 002/010 training accuracy: 98.50%\n",
            "Epoch: 003/010 | Batch 000/468 | Cost: 0.0400\n",
            "Epoch: 003/010 | Batch 050/468 | Cost: 0.0492\n",
            "Epoch: 003/010 | Batch 100/468 | Cost: 0.1893\n",
            "Epoch: 003/010 | Batch 150/468 | Cost: 0.0198\n",
            "Epoch: 003/010 | Batch 200/468 | Cost: 0.0582\n",
            "Epoch: 003/010 | Batch 250/468 | Cost: 0.0474\n",
            "Epoch: 003/010 | Batch 300/468 | Cost: 0.0108\n",
            "Epoch: 003/010 | Batch 350/468 | Cost: 0.0260\n",
            "Epoch: 003/010 | Batch 400/468 | Cost: 0.0541\n",
            "Epoch: 003/010 | Batch 450/468 | Cost: 0.0285\n",
            "Epoch: 003/010 training accuracy: 98.52%\n",
            "Epoch: 004/010 | Batch 000/468 | Cost: 0.0315\n",
            "Epoch: 004/010 | Batch 050/468 | Cost: 0.0240\n",
            "Epoch: 004/010 | Batch 100/468 | Cost: 0.0768\n",
            "Epoch: 004/010 | Batch 150/468 | Cost: 0.1088\n",
            "Epoch: 004/010 | Batch 200/468 | Cost: 0.0593\n",
            "Epoch: 004/010 | Batch 250/468 | Cost: 0.0221\n",
            "Epoch: 004/010 | Batch 300/468 | Cost: 0.0667\n",
            "Epoch: 004/010 | Batch 350/468 | Cost: 0.0322\n",
            "Epoch: 004/010 | Batch 400/468 | Cost: 0.0824\n",
            "Epoch: 004/010 | Batch 450/468 | Cost: 0.0336\n",
            "Epoch: 004/010 training accuracy: 98.63%\n",
            "Epoch: 005/010 | Batch 000/468 | Cost: 0.0328\n",
            "Epoch: 005/010 | Batch 050/468 | Cost: 0.0118\n",
            "Epoch: 005/010 | Batch 100/468 | Cost: 0.0887\n",
            "Epoch: 005/010 | Batch 150/468 | Cost: 0.0530\n",
            "Epoch: 005/010 | Batch 200/468 | Cost: 0.0904\n",
            "Epoch: 005/010 | Batch 250/468 | Cost: 0.0519\n",
            "Epoch: 005/010 | Batch 300/468 | Cost: 0.0128\n",
            "Epoch: 005/010 | Batch 350/468 | Cost: 0.0346\n",
            "Epoch: 005/010 | Batch 400/468 | Cost: 0.0108\n",
            "Epoch: 005/010 | Batch 450/468 | Cost: 0.0312\n",
            "Epoch: 005/010 training accuracy: 98.81%\n",
            "Epoch: 006/010 | Batch 000/468 | Cost: 0.0462\n",
            "Epoch: 006/010 | Batch 050/468 | Cost: 0.0146\n",
            "Epoch: 006/010 | Batch 100/468 | Cost: 0.0081\n",
            "Epoch: 006/010 | Batch 150/468 | Cost: 0.0471\n",
            "Epoch: 006/010 | Batch 200/468 | Cost: 0.0470\n",
            "Epoch: 006/010 | Batch 250/468 | Cost: 0.1068\n",
            "Epoch: 006/010 | Batch 300/468 | Cost: 0.0099\n",
            "Epoch: 006/010 | Batch 350/468 | Cost: 0.0042\n",
            "Epoch: 006/010 | Batch 400/468 | Cost: 0.0399\n",
            "Epoch: 006/010 | Batch 450/468 | Cost: 0.0568\n",
            "Epoch: 006/010 training accuracy: 99.05%\n",
            "Epoch: 007/010 | Batch 000/468 | Cost: 0.0180\n",
            "Epoch: 007/010 | Batch 050/468 | Cost: 0.0338\n",
            "Epoch: 007/010 | Batch 100/468 | Cost: 0.0279\n",
            "Epoch: 007/010 | Batch 150/468 | Cost: 0.0174\n",
            "Epoch: 007/010 | Batch 200/468 | Cost: 0.0169\n",
            "Epoch: 007/010 | Batch 250/468 | Cost: 0.0080\n",
            "Epoch: 007/010 | Batch 300/468 | Cost: 0.0356\n",
            "Epoch: 007/010 | Batch 350/468 | Cost: 0.1873\n",
            "Epoch: 007/010 | Batch 400/468 | Cost: 0.0151\n",
            "Epoch: 007/010 | Batch 450/468 | Cost: 0.0344\n",
            "Epoch: 007/010 training accuracy: 98.50%\n",
            "Epoch: 008/010 | Batch 000/468 | Cost: 0.0594\n",
            "Epoch: 008/010 | Batch 050/468 | Cost: 0.0334\n",
            "Epoch: 008/010 | Batch 100/468 | Cost: 0.0122\n",
            "Epoch: 008/010 | Batch 150/468 | Cost: 0.0259\n",
            "Epoch: 008/010 | Batch 200/468 | Cost: 0.1343\n",
            "Epoch: 008/010 | Batch 250/468 | Cost: 0.0046\n",
            "Epoch: 008/010 | Batch 300/468 | Cost: 0.0501\n",
            "Epoch: 008/010 | Batch 350/468 | Cost: 0.0440\n",
            "Epoch: 008/010 | Batch 400/468 | Cost: 0.0159\n",
            "Epoch: 008/010 | Batch 450/468 | Cost: 0.0433\n",
            "Epoch: 008/010 training accuracy: 99.23%\n",
            "Epoch: 009/010 | Batch 000/468 | Cost: 0.0429\n",
            "Epoch: 009/010 | Batch 050/468 | Cost: 0.0340\n",
            "Epoch: 009/010 | Batch 100/468 | Cost: 0.0181\n",
            "Epoch: 009/010 | Batch 150/468 | Cost: 0.0455\n",
            "Epoch: 009/010 | Batch 200/468 | Cost: 0.0025\n",
            "Epoch: 009/010 | Batch 250/468 | Cost: 0.0754\n",
            "Epoch: 009/010 | Batch 300/468 | Cost: 0.0392\n",
            "Epoch: 009/010 | Batch 350/468 | Cost: 0.0147\n",
            "Epoch: 009/010 | Batch 400/468 | Cost: 0.0211\n",
            "Epoch: 009/010 | Batch 450/468 | Cost: 0.0292\n",
            "Epoch: 009/010 training accuracy: 99.31%\n",
            "Epoch: 010/010 | Batch 000/468 | Cost: 0.0140\n",
            "Epoch: 010/010 | Batch 050/468 | Cost: 0.0045\n",
            "Epoch: 010/010 | Batch 100/468 | Cost: 0.0108\n",
            "Epoch: 010/010 | Batch 150/468 | Cost: 0.0771\n",
            "Epoch: 010/010 | Batch 200/468 | Cost: 0.0292\n",
            "Epoch: 010/010 | Batch 250/468 | Cost: 0.0209\n",
            "Epoch: 010/010 | Batch 300/468 | Cost: 0.0300\n",
            "Epoch: 010/010 | Batch 350/468 | Cost: 0.0148\n",
            "Epoch: 010/010 | Batch 400/468 | Cost: 0.1646\n",
            "Epoch: 010/010 | Batch 450/468 | Cost: 0.0081\n",
            "Epoch: 010/010 training accuracy: 99.15%\n"
          ]
        }
      ],
      "source": [
        "for epoch in range(num_epochs):\n",
        "    model = model.train()\n",
        "    for batch_idx, (features, targets) in enumerate(train_loader):\n",
        "\n",
        "        features = features.to(device)\n",
        "        targets = targets.to(device)\n",
        "\n",
        "        ### FORWARD AND BACK PROP\n",
        "        logits = model(features)\n",
        "        cost = torch.nn.functional.cross_entropy(logits, targets)\n",
        "        optimizer.zero_grad()\n",
        "\n",
        "        cost.backward()\n",
        "\n",
        "        ### UPDATE MODEL PARAMETERS\n",
        "        optimizer.step()\n",
        "\n",
        "        ### LOGGING\n",
        "        if not batch_idx % 50:\n",
        "            print ('Epoch: %03d/%03d | Batch %03d/%03d | Cost: %.4f'\n",
        "                   %(epoch+1, num_epochs, batch_idx,\n",
        "                     len(train_dataset)//batch_size, cost))\n",
        "\n",
        "    model = model.eval() # eval mode to prevent upd. batchnorm params during inference\n",
        "    with torch.set_grad_enabled(False): # save memory during inference\n",
        "        print('Epoch: %03d/%03d training accuracy: %.2f%%' % (\n",
        "              epoch+1, num_epochs,\n",
        "              compute_accuracy(model, train_loader)))"
      ]
    },
    {
      "cell_type": "code",
      "execution_count": 17,
      "metadata": {
        "colab": {
          "base_uri": "https://localhost:8080/"
        },
        "id": "0zT6x9QC2OOq",
        "outputId": "a7255575-0e23-4e99-91f1-26e1782e5a1b"
      },
      "outputs": [
        {
          "name": "stdout",
          "output_type": "stream",
          "text": [
            "Test accuracy: 98.19%\n"
          ]
        }
      ],
      "source": [
        "print('Test accuracy: %.2f%%' % (compute_accuracy(model, test_loader)))"
      ]
    }
  ],
  "metadata": {
    "accelerator": "GPU",
    "colab": {
      "gpuType": "T4",
      "provenance": []
    },
    "kernelspec": {
      "display_name": "Python 3",
      "name": "python3"
    },
    "language_info": {
      "codemirror_mode": {
        "name": "ipython",
        "version": 3
      },
      "file_extension": ".py",
      "mimetype": "text/x-python",
      "name": "python",
      "nbconvert_exporter": "python",
      "pygments_lexer": "ipython3",
      "version": "3.9.2"
    },
    "toc": {
      "nav_menu": {},
      "number_sections": true,
      "sideBar": true,
      "skip_h1_title": false,
      "title_cell": "Table of Contents",
      "title_sidebar": "Contents",
      "toc_cell": false,
      "toc_position": {},
      "toc_section_display": true,
      "toc_window_display": true
    }
  },
  "nbformat": 4,
  "nbformat_minor": 0
}
