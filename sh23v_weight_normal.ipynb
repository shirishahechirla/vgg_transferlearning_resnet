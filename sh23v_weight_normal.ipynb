{
  "cells": [
    {
      "cell_type": "markdown",
      "metadata": {
        "id": "GymEXhkU5zsx"
      },
      "source": [
        "Name: Shirisha Hechirla (sh23v)"
      ]
    },
    {
      "cell_type": "markdown",
      "metadata": {
        "id": "O06KlVk8z9mo"
      },
      "source": [
        "# MLP with Dropout"
      ]
    },
    {
      "cell_type": "markdown",
      "metadata": {
        "id": "JWYCXOkNz9mo"
      },
      "source": [
        "## Imports"
      ]
    },
    {
      "cell_type": "code",
      "execution_count": 2,
      "metadata": {
        "id": "1jN6vpyiz9mo"
      },
      "outputs": [],
      "source": [
        "import torch\n",
        "import numpy as np\n",
        "import matplotlib.pyplot as plt"
      ]
    },
    {
      "cell_type": "code",
      "execution_count": 3,
      "metadata": {
        "id": "cw5yY9zaz9mo"
      },
      "outputs": [],
      "source": [
        "# From local helper files\n",
        "from helper_evaluation import set_all_seeds, set_deterministic\n",
        "from helper_train import train_model\n",
        "from helper_plotting import plot_training_loss, plot_accuracy, show_examples\n",
        "from helper_dataset import get_dataloaders_mnist"
      ]
    },
    {
      "cell_type": "markdown",
      "metadata": {
        "id": "wYbs1oTcz9mo"
      },
      "source": [
        "## Settings and Dataset"
      ]
    },
    {
      "cell_type": "code",
      "execution_count": 4,
      "metadata": {
        "id": "H9svKIEuz9mo"
      },
      "outputs": [],
      "source": [
        "##########################\n",
        "### SETTINGS\n",
        "##########################\n",
        "\n",
        "RANDOM_SEED = 123\n",
        "BATCH_SIZE = 256\n",
        "NUM_HIDDEN_1 = 75\n",
        "NUM_HIDDEN_2 = 45\n",
        "NUM_EPOCHS = 50\n",
        "DEVICE = torch.device('cuda:0' if torch.cuda.is_available() else 'cpu')"
      ]
    },
    {
      "cell_type": "code",
      "execution_count": 5,
      "metadata": {
        "id": "dv0fSW09z9mp"
      },
      "outputs": [],
      "source": [
        "set_all_seeds(RANDOM_SEED)\n",
        "set_deterministic()"
      ]
    },
    {
      "cell_type": "code",
      "execution_count": 6,
      "metadata": {
        "colab": {
          "base_uri": "https://localhost:8080/"
        },
        "id": "JZAdO1ZSz9mp",
        "outputId": "7b818914-01a7-4f94-de32-aa7407d40b34"
      },
      "outputs": [
        {
          "output_type": "stream",
          "name": "stdout",
          "text": [
            "Downloading http://yann.lecun.com/exdb/mnist/train-images-idx3-ubyte.gz\n",
            "Failed to download (trying next):\n",
            "HTTP Error 403: Forbidden\n",
            "\n",
            "Downloading https://ossci-datasets.s3.amazonaws.com/mnist/train-images-idx3-ubyte.gz\n",
            "Downloading https://ossci-datasets.s3.amazonaws.com/mnist/train-images-idx3-ubyte.gz to data/MNIST/raw/train-images-idx3-ubyte.gz\n"
          ]
        },
        {
          "output_type": "stream",
          "name": "stderr",
          "text": [
            "100%|██████████| 9.91M/9.91M [00:00<00:00, 12.6MB/s]\n"
          ]
        },
        {
          "output_type": "stream",
          "name": "stdout",
          "text": [
            "Extracting data/MNIST/raw/train-images-idx3-ubyte.gz to data/MNIST/raw\n",
            "\n",
            "Downloading http://yann.lecun.com/exdb/mnist/train-labels-idx1-ubyte.gz\n",
            "Failed to download (trying next):\n",
            "HTTP Error 403: Forbidden\n",
            "\n",
            "Downloading https://ossci-datasets.s3.amazonaws.com/mnist/train-labels-idx1-ubyte.gz\n",
            "Downloading https://ossci-datasets.s3.amazonaws.com/mnist/train-labels-idx1-ubyte.gz to data/MNIST/raw/train-labels-idx1-ubyte.gz\n"
          ]
        },
        {
          "output_type": "stream",
          "name": "stderr",
          "text": [
            "100%|██████████| 28.9k/28.9k [00:00<00:00, 352kB/s]\n"
          ]
        },
        {
          "output_type": "stream",
          "name": "stdout",
          "text": [
            "Extracting data/MNIST/raw/train-labels-idx1-ubyte.gz to data/MNIST/raw\n",
            "\n",
            "Downloading http://yann.lecun.com/exdb/mnist/t10k-images-idx3-ubyte.gz\n",
            "Failed to download (trying next):\n",
            "HTTP Error 403: Forbidden\n",
            "\n",
            "Downloading https://ossci-datasets.s3.amazonaws.com/mnist/t10k-images-idx3-ubyte.gz\n",
            "Downloading https://ossci-datasets.s3.amazonaws.com/mnist/t10k-images-idx3-ubyte.gz to data/MNIST/raw/t10k-images-idx3-ubyte.gz\n"
          ]
        },
        {
          "output_type": "stream",
          "name": "stderr",
          "text": [
            "100%|██████████| 1.65M/1.65M [00:00<00:00, 3.19MB/s]\n"
          ]
        },
        {
          "output_type": "stream",
          "name": "stdout",
          "text": [
            "Extracting data/MNIST/raw/t10k-images-idx3-ubyte.gz to data/MNIST/raw\n",
            "\n",
            "Downloading http://yann.lecun.com/exdb/mnist/t10k-labels-idx1-ubyte.gz\n",
            "Failed to download (trying next):\n",
            "HTTP Error 403: Forbidden\n",
            "\n",
            "Downloading https://ossci-datasets.s3.amazonaws.com/mnist/t10k-labels-idx1-ubyte.gz\n",
            "Downloading https://ossci-datasets.s3.amazonaws.com/mnist/t10k-labels-idx1-ubyte.gz to data/MNIST/raw/t10k-labels-idx1-ubyte.gz\n"
          ]
        },
        {
          "output_type": "stream",
          "name": "stderr",
          "text": [
            "100%|██████████| 4.54k/4.54k [00:00<00:00, 3.17MB/s]\n"
          ]
        },
        {
          "output_type": "stream",
          "name": "stdout",
          "text": [
            "Extracting data/MNIST/raw/t10k-labels-idx1-ubyte.gz to data/MNIST/raw\n",
            "\n",
            "Image batch dimensions: torch.Size([256, 1, 28, 28])\n",
            "Image label dimensions: torch.Size([256])\n",
            "Class labels of 10 examples: tensor([4, 5, 8, 9, 9, 4, 9, 9, 3, 9])\n"
          ]
        }
      ],
      "source": [
        "##########################\n",
        "### MNIST DATASET\n",
        "##########################\n",
        "\n",
        "train_loader, valid_loader, test_loader = get_dataloaders_mnist(\n",
        "    batch_size=BATCH_SIZE,\n",
        "    validation_fraction=0.1)\n",
        "\n",
        "# Checking the dataset\n",
        "for images, labels in train_loader:\n",
        "    print('Image batch dimensions:', images.shape)\n",
        "    print('Image label dimensions:', labels.shape)\n",
        "    print('Class labels of 10 examples:', labels[:10])\n",
        "    break"
      ]
    },
    {
      "cell_type": "markdown",
      "metadata": {
        "id": "OFNrtOu5z9mp"
      },
      "source": [
        "## Model"
      ]
    },
    {
      "cell_type": "code",
      "execution_count": 7,
      "metadata": {
        "id": "t-rqmAM_z9mp"
      },
      "outputs": [],
      "source": [
        "class MultilayerPerceptron(torch.nn.Module):\n",
        "\n",
        "    def __init__(self, num_features, num_classes, drop_proba,\n",
        "                 num_hidden_1, num_hidden_2):\n",
        "        super().__init__()\n",
        "\n",
        "        self.my_network = torch.nn.Sequential(\n",
        "            # 1st hidden layer\n",
        "            torch.nn.Flatten(),\n",
        "            torch.nn.Linear(num_features, num_hidden_1),\n",
        "            torch.nn.ReLU(),\n",
        "            # 2nd hidden layer\n",
        "            torch.nn.Linear(num_hidden_1, num_hidden_2),\n",
        "            torch.nn.ReLU(),\n",
        "            # output layer\n",
        "            torch.nn.Linear(num_hidden_2, num_classes)\n",
        "        )\n",
        "\n",
        "        for m in self.modules():\n",
        "            if isinstance(m, torch.nn.Linear):\n",
        "                m.weight.detach().normal_(0, 0.001)\n",
        "                if m.bias is not None:\n",
        "                    m.bias.detach().zero_()\n",
        "\n",
        "    def forward(self, x):\n",
        "        logits = self.my_network(x)\n",
        "        return logits"
      ]
    },
    {
      "cell_type": "code",
      "execution_count": 8,
      "metadata": {
        "colab": {
          "base_uri": "https://localhost:8080/",
          "height": 1000
        },
        "id": "YIbbyz3Sz9mp",
        "outputId": "fe021067-df37-4bf1-db30-9037b906b0e7"
      },
      "outputs": [
        {
          "output_type": "stream",
          "name": "stdout",
          "text": [
            "Epoch: 001/050 | Batch 0000/0210 | Loss: 2.3026\n",
            "Epoch: 001/050 | Batch 0050/0210 | Loss: 2.3003\n",
            "Epoch: 001/050 | Batch 0100/0210 | Loss: 2.3044\n",
            "Epoch: 001/050 | Batch 0150/0210 | Loss: 2.2988\n",
            "Epoch: 001/050 | Batch 0200/0210 | Loss: 2.2980\n",
            "Epoch: 001/050 | Train: 11.31% | Validation: 10.50%\n",
            "Time elapsed: 0.29 min\n",
            "Epoch: 002/050 | Batch 0000/0210 | Loss: 2.3005\n",
            "Epoch: 002/050 | Batch 0050/0210 | Loss: 2.2974\n",
            "Epoch: 002/050 | Batch 0100/0210 | Loss: 2.3039\n",
            "Epoch: 002/050 | Batch 0150/0210 | Loss: 2.3035\n",
            "Epoch: 002/050 | Batch 0200/0210 | Loss: 2.3043\n",
            "Epoch: 002/050 | Train: 11.31% | Validation: 10.50%\n",
            "Time elapsed: 0.57 min\n",
            "Epoch: 003/050 | Batch 0000/0210 | Loss: 2.3041\n",
            "Epoch: 003/050 | Batch 0050/0210 | Loss: 2.3008\n",
            "Epoch: 003/050 | Batch 0100/0210 | Loss: 2.3050\n",
            "Epoch: 003/050 | Batch 0150/0210 | Loss: 2.2976\n",
            "Epoch: 003/050 | Batch 0200/0210 | Loss: 2.2991\n",
            "Epoch: 003/050 | Train: 11.32% | Validation: 10.50%\n",
            "Time elapsed: 0.87 min\n",
            "Epoch: 004/050 | Batch 0000/0210 | Loss: 2.2990\n",
            "Epoch: 004/050 | Batch 0050/0210 | Loss: 2.2989\n",
            "Epoch: 004/050 | Batch 0100/0210 | Loss: 2.3014\n",
            "Epoch: 004/050 | Batch 0150/0210 | Loss: 2.3079\n",
            "Epoch: 004/050 | Batch 0200/0210 | Loss: 2.3031\n",
            "Epoch: 004/050 | Train: 11.33% | Validation: 10.50%\n",
            "Time elapsed: 1.16 min\n",
            "Epoch: 005/050 | Batch 0000/0210 | Loss: 2.3085\n",
            "Epoch: 005/050 | Batch 0050/0210 | Loss: 2.3038\n",
            "Epoch: 005/050 | Batch 0100/0210 | Loss: 2.2980\n",
            "Epoch: 005/050 | Batch 0150/0210 | Loss: 2.3036\n",
            "Epoch: 005/050 | Batch 0200/0210 | Loss: 2.3025\n",
            "Epoch: 005/050 | Train: 11.32% | Validation: 10.50%\n",
            "Time elapsed: 1.44 min\n",
            "Epoch: 006/050 | Batch 0000/0210 | Loss: 2.2992\n",
            "Epoch: 006/050 | Batch 0050/0210 | Loss: 2.3003\n",
            "Epoch: 006/050 | Batch 0100/0210 | Loss: 2.2955\n",
            "Epoch: 006/050 | Batch 0150/0210 | Loss: 2.3057\n",
            "Epoch: 006/050 | Batch 0200/0210 | Loss: 2.2965\n",
            "Epoch: 006/050 | Train: 11.33% | Validation: 10.50%\n",
            "Time elapsed: 1.74 min\n",
            "Epoch: 007/050 | Batch 0000/0210 | Loss: 2.3081\n",
            "Epoch: 007/050 | Batch 0050/0210 | Loss: 2.2975\n",
            "Epoch: 007/050 | Batch 0100/0210 | Loss: 2.2975\n",
            "Epoch: 007/050 | Batch 0150/0210 | Loss: 2.3064\n",
            "Epoch: 007/050 | Batch 0200/0210 | Loss: 2.2993\n",
            "Epoch: 007/050 | Train: 11.32% | Validation: 10.50%\n",
            "Time elapsed: 2.02 min\n",
            "Epoch: 008/050 | Batch 0000/0210 | Loss: 2.3036\n",
            "Epoch: 008/050 | Batch 0050/0210 | Loss: 2.3085\n",
            "Epoch: 008/050 | Batch 0100/0210 | Loss: 2.2990\n",
            "Epoch: 008/050 | Batch 0150/0210 | Loss: 2.2957\n",
            "Epoch: 008/050 | Batch 0200/0210 | Loss: 2.3017\n",
            "Epoch: 008/050 | Train: 11.32% | Validation: 10.50%\n",
            "Time elapsed: 2.32 min\n",
            "Epoch: 009/050 | Batch 0000/0210 | Loss: 2.3088\n",
            "Epoch: 009/050 | Batch 0050/0210 | Loss: 2.2996\n",
            "Epoch: 009/050 | Batch 0100/0210 | Loss: 2.3021\n",
            "Epoch: 009/050 | Batch 0150/0210 | Loss: 2.2992\n",
            "Epoch: 009/050 | Batch 0200/0210 | Loss: 2.3015\n",
            "Epoch: 009/050 | Train: 11.31% | Validation: 10.50%\n",
            "Time elapsed: 2.61 min\n",
            "Epoch: 010/050 | Batch 0000/0210 | Loss: 2.2991\n",
            "Epoch: 010/050 | Batch 0050/0210 | Loss: 2.3006\n",
            "Epoch: 010/050 | Batch 0100/0210 | Loss: 2.3097\n",
            "Epoch: 010/050 | Batch 0150/0210 | Loss: 2.3078\n",
            "Epoch: 010/050 | Batch 0200/0210 | Loss: 2.3047\n",
            "Epoch: 010/050 | Train: 11.32% | Validation: 10.50%\n",
            "Time elapsed: 2.89 min\n",
            "Epoch: 011/050 | Batch 0000/0210 | Loss: 2.2971\n",
            "Epoch: 011/050 | Batch 0050/0210 | Loss: 2.3076\n",
            "Epoch: 011/050 | Batch 0100/0210 | Loss: 2.3061\n",
            "Epoch: 011/050 | Batch 0150/0210 | Loss: 2.2986\n",
            "Epoch: 011/050 | Batch 0200/0210 | Loss: 2.2913\n",
            "Epoch: 011/050 | Train: 11.31% | Validation: 10.50%\n",
            "Time elapsed: 3.19 min\n",
            "Epoch: 012/050 | Batch 0000/0210 | Loss: 2.2981\n",
            "Epoch: 012/050 | Batch 0050/0210 | Loss: 2.2975\n",
            "Epoch: 012/050 | Batch 0100/0210 | Loss: 2.2965\n",
            "Epoch: 012/050 | Batch 0150/0210 | Loss: 2.3053\n",
            "Epoch: 012/050 | Batch 0200/0210 | Loss: 2.2965\n",
            "Epoch: 012/050 | Train: 11.30% | Validation: 10.50%\n",
            "Time elapsed: 3.48 min\n",
            "Epoch: 013/050 | Batch 0000/0210 | Loss: 2.2963\n",
            "Epoch: 013/050 | Batch 0050/0210 | Loss: 2.3000\n",
            "Epoch: 013/050 | Batch 0100/0210 | Loss: 2.2988\n",
            "Epoch: 013/050 | Batch 0150/0210 | Loss: 2.3032\n",
            "Epoch: 013/050 | Batch 0200/0210 | Loss: 2.3008\n",
            "Epoch: 013/050 | Train: 11.31% | Validation: 10.50%\n",
            "Time elapsed: 3.76 min\n",
            "Epoch: 014/050 | Batch 0000/0210 | Loss: 2.2977\n",
            "Epoch: 014/050 | Batch 0050/0210 | Loss: 2.3084\n",
            "Epoch: 014/050 | Batch 0100/0210 | Loss: 2.3002\n",
            "Epoch: 014/050 | Batch 0150/0210 | Loss: 2.3007\n",
            "Epoch: 014/050 | Batch 0200/0210 | Loss: 2.2999\n",
            "Epoch: 014/050 | Train: 11.31% | Validation: 10.50%\n",
            "Time elapsed: 4.06 min\n",
            "Epoch: 015/050 | Batch 0000/0210 | Loss: 2.2984\n",
            "Epoch: 015/050 | Batch 0050/0210 | Loss: 2.3014\n",
            "Epoch: 015/050 | Batch 0100/0210 | Loss: 2.3033\n",
            "Epoch: 015/050 | Batch 0150/0210 | Loss: 2.3003\n",
            "Epoch: 015/050 | Batch 0200/0210 | Loss: 2.2942\n",
            "Epoch: 015/050 | Train: 11.32% | Validation: 10.50%\n",
            "Time elapsed: 4.34 min\n",
            "Epoch: 016/050 | Batch 0000/0210 | Loss: 2.3000\n",
            "Epoch: 016/050 | Batch 0050/0210 | Loss: 2.2978\n",
            "Epoch: 016/050 | Batch 0100/0210 | Loss: 2.3044\n",
            "Epoch: 016/050 | Batch 0150/0210 | Loss: 2.3012\n",
            "Epoch: 016/050 | Batch 0200/0210 | Loss: 2.3065\n",
            "Epoch: 016/050 | Train: 11.30% | Validation: 10.50%\n",
            "Time elapsed: 4.63 min\n",
            "Epoch: 017/050 | Batch 0000/0210 | Loss: 2.2976\n",
            "Epoch: 017/050 | Batch 0050/0210 | Loss: 2.2968\n",
            "Epoch: 017/050 | Batch 0100/0210 | Loss: 2.3030\n",
            "Epoch: 017/050 | Batch 0150/0210 | Loss: 2.3046\n",
            "Epoch: 017/050 | Batch 0200/0210 | Loss: 2.2981\n",
            "Epoch: 017/050 | Train: 11.33% | Validation: 10.50%\n",
            "Time elapsed: 4.93 min\n",
            "Epoch: 018/050 | Batch 0000/0210 | Loss: 2.2999\n",
            "Epoch: 018/050 | Batch 0050/0210 | Loss: 2.2843\n",
            "Epoch: 018/050 | Batch 0100/0210 | Loss: 2.2288\n",
            "Epoch: 018/050 | Batch 0150/0210 | Loss: 2.0105\n",
            "Epoch: 018/050 | Batch 0200/0210 | Loss: 1.9151\n",
            "Epoch: 018/050 | Train: 26.08% | Validation: 26.15%\n",
            "Time elapsed: 5.22 min\n",
            "Epoch: 019/050 | Batch 0000/0210 | Loss: 1.8481\n",
            "Epoch: 019/050 | Batch 0050/0210 | Loss: 1.6901\n",
            "Epoch: 019/050 | Batch 0100/0210 | Loss: 1.6010\n",
            "Epoch: 019/050 | Batch 0150/0210 | Loss: 1.5598\n",
            "Epoch: 019/050 | Batch 0200/0210 | Loss: 1.4744\n",
            "Epoch: 019/050 | Train: 40.60% | Validation: 42.75%\n",
            "Time elapsed: 5.52 min\n",
            "Epoch: 020/050 | Batch 0000/0210 | Loss: 1.4895\n",
            "Epoch: 020/050 | Batch 0050/0210 | Loss: 1.3161\n",
            "Epoch: 020/050 | Batch 0100/0210 | Loss: 1.3590\n",
            "Epoch: 020/050 | Batch 0150/0210 | Loss: 1.3287\n",
            "Epoch: 020/050 | Batch 0200/0210 | Loss: 1.3520\n",
            "Epoch: 020/050 | Train: 46.05% | Validation: 47.48%\n",
            "Time elapsed: 5.80 min\n",
            "Epoch: 021/050 | Batch 0000/0210 | Loss: 1.3814\n",
            "Epoch: 021/050 | Batch 0050/0210 | Loss: 1.2977\n",
            "Epoch: 021/050 | Batch 0100/0210 | Loss: 1.2076\n",
            "Epoch: 021/050 | Batch 0150/0210 | Loss: 1.2762\n",
            "Epoch: 021/050 | Batch 0200/0210 | Loss: 1.1052\n",
            "Epoch: 021/050 | Train: 53.04% | Validation: 55.40%\n",
            "Time elapsed: 6.09 min\n",
            "Epoch: 022/050 | Batch 0000/0210 | Loss: 1.2794\n",
            "Epoch: 022/050 | Batch 0050/0210 | Loss: 1.0394\n",
            "Epoch: 022/050 | Batch 0100/0210 | Loss: 0.8490\n",
            "Epoch: 022/050 | Batch 0150/0210 | Loss: 0.6923\n",
            "Epoch: 022/050 | Batch 0200/0210 | Loss: 0.5996\n",
            "Epoch: 022/050 | Train: 76.99% | Validation: 80.20%\n",
            "Time elapsed: 6.38 min\n",
            "Epoch: 023/050 | Batch 0000/0210 | Loss: 0.6064\n",
            "Epoch: 023/050 | Batch 0050/0210 | Loss: 0.5468\n",
            "Epoch: 023/050 | Batch 0100/0210 | Loss: 0.5872\n",
            "Epoch: 023/050 | Batch 0150/0210 | Loss: 0.5419\n",
            "Epoch: 023/050 | Batch 0200/0210 | Loss: 0.5477\n",
            "Epoch: 023/050 | Train: 84.90% | Validation: 87.43%\n",
            "Time elapsed: 6.67 min\n",
            "Epoch: 024/050 | Batch 0000/0210 | Loss: 0.4272\n",
            "Epoch: 024/050 | Batch 0050/0210 | Loss: 0.5599\n",
            "Epoch: 024/050 | Batch 0100/0210 | Loss: 0.5279\n",
            "Epoch: 024/050 | Batch 0150/0210 | Loss: 0.4718\n",
            "Epoch: 024/050 | Batch 0200/0210 | Loss: 0.3735\n",
            "Epoch: 024/050 | Train: 87.27% | Validation: 89.48%\n",
            "Time elapsed: 6.96 min\n",
            "Epoch: 025/050 | Batch 0000/0210 | Loss: 0.4891\n",
            "Epoch: 025/050 | Batch 0050/0210 | Loss: 0.3463\n",
            "Epoch: 025/050 | Batch 0100/0210 | Loss: 0.3242\n",
            "Epoch: 025/050 | Batch 0150/0210 | Loss: 0.4322\n",
            "Epoch: 025/050 | Batch 0200/0210 | Loss: 0.4199\n",
            "Epoch: 025/050 | Train: 88.90% | Validation: 90.57%\n",
            "Time elapsed: 7.25 min\n",
            "Epoch: 026/050 | Batch 0000/0210 | Loss: 0.3600\n",
            "Epoch: 026/050 | Batch 0050/0210 | Loss: 0.4026\n",
            "Epoch: 026/050 | Batch 0100/0210 | Loss: 0.4105\n",
            "Epoch: 026/050 | Batch 0150/0210 | Loss: 0.3650\n",
            "Epoch: 026/050 | Batch 0200/0210 | Loss: 0.3292\n",
            "Epoch: 026/050 | Train: 90.97% | Validation: 92.57%\n",
            "Time elapsed: 7.54 min\n",
            "Epoch: 027/050 | Batch 0000/0210 | Loss: 0.3194\n",
            "Epoch: 027/050 | Batch 0050/0210 | Loss: 0.2738\n",
            "Epoch: 027/050 | Batch 0100/0210 | Loss: 0.3098\n",
            "Epoch: 027/050 | Batch 0150/0210 | Loss: 0.2576\n",
            "Epoch: 027/050 | Batch 0200/0210 | Loss: 0.3460\n",
            "Epoch: 027/050 | Train: 92.35% | Validation: 93.70%\n",
            "Time elapsed: 7.84 min\n",
            "Epoch: 028/050 | Batch 0000/0210 | Loss: 0.1864\n",
            "Epoch: 028/050 | Batch 0050/0210 | Loss: 0.2805\n",
            "Epoch: 028/050 | Batch 0100/0210 | Loss: 0.2233\n",
            "Epoch: 028/050 | Batch 0150/0210 | Loss: 0.1754\n",
            "Epoch: 028/050 | Batch 0200/0210 | Loss: 0.2597\n",
            "Epoch: 028/050 | Train: 92.85% | Validation: 93.92%\n",
            "Time elapsed: 8.12 min\n",
            "Epoch: 029/050 | Batch 0000/0210 | Loss: 0.2737\n",
            "Epoch: 029/050 | Batch 0050/0210 | Loss: 0.1986\n",
            "Epoch: 029/050 | Batch 0100/0210 | Loss: 0.2770\n",
            "Epoch: 029/050 | Batch 0150/0210 | Loss: 0.2619\n",
            "Epoch: 029/050 | Batch 0200/0210 | Loss: 0.1753\n",
            "Epoch: 029/050 | Train: 93.97% | Validation: 94.95%\n",
            "Time elapsed: 8.40 min\n",
            "Epoch: 030/050 | Batch 0000/0210 | Loss: 0.1902\n",
            "Epoch: 030/050 | Batch 0050/0210 | Loss: 0.2527\n",
            "Epoch: 030/050 | Batch 0100/0210 | Loss: 0.2597\n",
            "Epoch: 030/050 | Batch 0150/0210 | Loss: 0.1978\n",
            "Epoch: 030/050 | Batch 0200/0210 | Loss: 0.2388\n",
            "Epoch: 030/050 | Train: 94.21% | Validation: 95.08%\n",
            "Time elapsed: 8.70 min\n",
            "Epoch: 031/050 | Batch 0000/0210 | Loss: 0.2887\n",
            "Epoch: 031/050 | Batch 0050/0210 | Loss: 0.2440\n",
            "Epoch: 031/050 | Batch 0100/0210 | Loss: 0.1988\n",
            "Epoch: 031/050 | Batch 0150/0210 | Loss: 0.1880\n",
            "Epoch: 031/050 | Batch 0200/0210 | Loss: 0.2104\n",
            "Epoch: 031/050 | Train: 94.96% | Validation: 95.50%\n",
            "Time elapsed: 8.98 min\n",
            "Epoch: 032/050 | Batch 0000/0210 | Loss: 0.1434\n",
            "Epoch: 032/050 | Batch 0050/0210 | Loss: 0.1348\n",
            "Epoch: 032/050 | Batch 0100/0210 | Loss: 0.1394\n",
            "Epoch: 032/050 | Batch 0150/0210 | Loss: 0.1679\n",
            "Epoch: 032/050 | Batch 0200/0210 | Loss: 0.1469\n",
            "Epoch: 032/050 | Train: 95.04% | Validation: 95.62%\n",
            "Time elapsed: 9.27 min\n",
            "Epoch: 033/050 | Batch 0000/0210 | Loss: 0.1705\n",
            "Epoch: 033/050 | Batch 0050/0210 | Loss: 0.3078\n",
            "Epoch: 033/050 | Batch 0100/0210 | Loss: 0.1741\n",
            "Epoch: 033/050 | Batch 0150/0210 | Loss: 0.1424\n",
            "Epoch: 033/050 | Batch 0200/0210 | Loss: 0.1478\n",
            "Epoch: 033/050 | Train: 95.77% | Validation: 95.95%\n",
            "Time elapsed: 9.57 min\n",
            "Epoch: 034/050 | Batch 0000/0210 | Loss: 0.1168\n",
            "Epoch: 034/050 | Batch 0050/0210 | Loss: 0.0777\n",
            "Epoch: 034/050 | Batch 0100/0210 | Loss: 0.2196\n",
            "Epoch: 034/050 | Batch 0150/0210 | Loss: 0.1896\n",
            "Epoch: 034/050 | Batch 0200/0210 | Loss: 0.1961\n",
            "Epoch: 034/050 | Train: 96.03% | Validation: 96.05%\n",
            "Time elapsed: 9.85 min\n",
            "Epoch: 035/050 | Batch 0000/0210 | Loss: 0.1449\n",
            "Epoch: 035/050 | Batch 0050/0210 | Loss: 0.1354\n",
            "Epoch: 035/050 | Batch 0100/0210 | Loss: 0.1151\n",
            "Epoch: 035/050 | Batch 0150/0210 | Loss: 0.1422\n",
            "Epoch: 035/050 | Batch 0200/0210 | Loss: 0.1317\n",
            "Epoch: 035/050 | Train: 96.24% | Validation: 96.00%\n",
            "Time elapsed: 10.14 min\n",
            "Epoch: 036/050 | Batch 0000/0210 | Loss: 0.1359\n",
            "Epoch: 036/050 | Batch 0050/0210 | Loss: 0.1590\n",
            "Epoch: 036/050 | Batch 0100/0210 | Loss: 0.1396\n",
            "Epoch: 036/050 | Batch 0150/0210 | Loss: 0.1579\n",
            "Epoch: 036/050 | Batch 0200/0210 | Loss: 0.1569\n",
            "Epoch: 036/050 | Train: 96.38% | Validation: 96.20%\n",
            "Time elapsed: 10.43 min\n",
            "Epoch: 037/050 | Batch 0000/0210 | Loss: 0.1584\n",
            "Epoch: 037/050 | Batch 0050/0210 | Loss: 0.1033\n",
            "Epoch: 037/050 | Batch 0100/0210 | Loss: 0.0924\n",
            "Epoch: 037/050 | Batch 0150/0210 | Loss: 0.1739\n",
            "Epoch: 037/050 | Batch 0200/0210 | Loss: 0.1865\n",
            "Epoch: 037/050 | Train: 96.60% | Validation: 96.50%\n",
            "Time elapsed: 10.71 min\n",
            "Epoch: 038/050 | Batch 0000/0210 | Loss: 0.0762\n",
            "Epoch: 038/050 | Batch 0050/0210 | Loss: 0.0908\n",
            "Epoch: 038/050 | Batch 0100/0210 | Loss: 0.1049\n",
            "Epoch: 038/050 | Batch 0150/0210 | Loss: 0.1113\n",
            "Epoch: 038/050 | Batch 0200/0210 | Loss: 0.1413\n",
            "Epoch: 038/050 | Train: 97.02% | Validation: 96.85%\n",
            "Time elapsed: 11.01 min\n",
            "Epoch: 039/050 | Batch 0000/0210 | Loss: 0.0787\n",
            "Epoch: 039/050 | Batch 0050/0210 | Loss: 0.1026\n",
            "Epoch: 039/050 | Batch 0100/0210 | Loss: 0.0872\n",
            "Epoch: 039/050 | Batch 0150/0210 | Loss: 0.1416\n",
            "Epoch: 039/050 | Batch 0200/0210 | Loss: 0.1166\n",
            "Epoch: 039/050 | Train: 97.10% | Validation: 96.55%\n",
            "Time elapsed: 11.30 min\n",
            "Epoch: 040/050 | Batch 0000/0210 | Loss: 0.1011\n",
            "Epoch: 040/050 | Batch 0050/0210 | Loss: 0.0794\n",
            "Epoch: 040/050 | Batch 0100/0210 | Loss: 0.0921\n",
            "Epoch: 040/050 | Batch 0150/0210 | Loss: 0.0764\n",
            "Epoch: 040/050 | Batch 0200/0210 | Loss: 0.0884\n",
            "Epoch: 040/050 | Train: 97.40% | Validation: 96.97%\n",
            "Time elapsed: 11.58 min\n",
            "Epoch: 041/050 | Batch 0000/0210 | Loss: 0.0552\n",
            "Epoch: 041/050 | Batch 0050/0210 | Loss: 0.0929\n",
            "Epoch: 041/050 | Batch 0100/0210 | Loss: 0.0848\n",
            "Epoch: 041/050 | Batch 0150/0210 | Loss: 0.1244\n",
            "Epoch: 041/050 | Batch 0200/0210 | Loss: 0.1430\n",
            "Epoch: 041/050 | Train: 97.30% | Validation: 96.57%\n",
            "Time elapsed: 11.88 min\n",
            "Epoch: 042/050 | Batch 0000/0210 | Loss: 0.1280\n",
            "Epoch: 042/050 | Batch 0050/0210 | Loss: 0.0714\n",
            "Epoch: 042/050 | Batch 0100/0210 | Loss: 0.1241\n",
            "Epoch: 042/050 | Batch 0150/0210 | Loss: 0.1073\n",
            "Epoch: 042/050 | Batch 0200/0210 | Loss: 0.0906\n",
            "Epoch: 042/050 | Train: 97.67% | Validation: 96.78%\n",
            "Time elapsed: 12.16 min\n",
            "Epoch: 043/050 | Batch 0000/0210 | Loss: 0.0899\n",
            "Epoch: 043/050 | Batch 0050/0210 | Loss: 0.0744\n",
            "Epoch: 043/050 | Batch 0100/0210 | Loss: 0.0710\n",
            "Epoch: 043/050 | Batch 0150/0210 | Loss: 0.0932\n",
            "Epoch: 043/050 | Batch 0200/0210 | Loss: 0.1083\n",
            "Epoch: 043/050 | Train: 97.70% | Validation: 97.20%\n",
            "Time elapsed: 12.45 min\n",
            "Epoch: 044/050 | Batch 0000/0210 | Loss: 0.0922\n",
            "Epoch: 044/050 | Batch 0050/0210 | Loss: 0.0757\n",
            "Epoch: 044/050 | Batch 0100/0210 | Loss: 0.0702\n",
            "Epoch: 044/050 | Batch 0150/0210 | Loss: 0.0673\n",
            "Epoch: 044/050 | Batch 0200/0210 | Loss: 0.1051\n",
            "Epoch: 044/050 | Train: 97.85% | Validation: 97.05%\n",
            "Time elapsed: 12.75 min\n",
            "Epoch: 045/050 | Batch 0000/0210 | Loss: 0.0722\n",
            "Epoch: 045/050 | Batch 0050/0210 | Loss: 0.0444\n",
            "Epoch: 045/050 | Batch 0100/0210 | Loss: 0.0633\n",
            "Epoch: 045/050 | Batch 0150/0210 | Loss: 0.0973\n",
            "Epoch: 045/050 | Batch 0200/0210 | Loss: 0.0518\n",
            "Epoch: 045/050 | Train: 98.01% | Validation: 96.97%\n",
            "Time elapsed: 13.03 min\n",
            "Epoch: 046/050 | Batch 0000/0210 | Loss: 0.1200\n",
            "Epoch: 046/050 | Batch 0050/0210 | Loss: 0.0621\n",
            "Epoch: 046/050 | Batch 0100/0210 | Loss: 0.0494\n",
            "Epoch: 046/050 | Batch 0150/0210 | Loss: 0.1043\n",
            "Epoch: 046/050 | Batch 0200/0210 | Loss: 0.1336\n",
            "Epoch: 046/050 | Train: 97.97% | Validation: 97.15%\n",
            "Time elapsed: 13.33 min\n",
            "Epoch: 047/050 | Batch 0000/0210 | Loss: 0.0705\n",
            "Epoch: 047/050 | Batch 0050/0210 | Loss: 0.0591\n",
            "Epoch: 047/050 | Batch 0100/0210 | Loss: 0.0719\n",
            "Epoch: 047/050 | Batch 0150/0210 | Loss: 0.0718\n",
            "Epoch: 047/050 | Batch 0200/0210 | Loss: 0.0410\n",
            "Epoch: 047/050 | Train: 98.12% | Validation: 97.03%\n",
            "Time elapsed: 13.62 min\n",
            "Epoch: 048/050 | Batch 0000/0210 | Loss: 0.0585\n",
            "Epoch: 048/050 | Batch 0050/0210 | Loss: 0.0654\n",
            "Epoch: 048/050 | Batch 0100/0210 | Loss: 0.0358\n",
            "Epoch: 048/050 | Batch 0150/0210 | Loss: 0.0858\n",
            "Epoch: 048/050 | Batch 0200/0210 | Loss: 0.1199\n",
            "Epoch: 048/050 | Train: 98.23% | Validation: 97.03%\n",
            "Time elapsed: 13.90 min\n",
            "Epoch: 049/050 | Batch 0000/0210 | Loss: 0.0583\n",
            "Epoch: 049/050 | Batch 0050/0210 | Loss: 0.0516\n",
            "Epoch: 049/050 | Batch 0100/0210 | Loss: 0.0436\n",
            "Epoch: 049/050 | Batch 0150/0210 | Loss: 0.0511\n",
            "Epoch: 049/050 | Batch 0200/0210 | Loss: 0.0543\n",
            "Epoch: 049/050 | Train: 98.28% | Validation: 97.15%\n",
            "Time elapsed: 14.20 min\n",
            "Epoch: 050/050 | Batch 0000/0210 | Loss: 0.1034\n",
            "Epoch: 050/050 | Batch 0050/0210 | Loss: 0.0686\n",
            "Epoch: 050/050 | Batch 0100/0210 | Loss: 0.0376\n",
            "Epoch: 050/050 | Batch 0150/0210 | Loss: 0.0528\n",
            "Epoch: 050/050 | Batch 0200/0210 | Loss: 0.1214\n",
            "Epoch: 050/050 | Train: 98.38% | Validation: 97.13%\n",
            "Time elapsed: 14.48 min\n",
            "Total Training Time: 14.48 min\n",
            "Test accuracy 96.84%\n"
          ]
        },
        {
          "output_type": "display_data",
          "data": {
            "text/plain": [
              "<Figure size 640x480 with 2 Axes>"
            ],
            "image/png": "[encoded data removed]"
          },
          "metadata": {}
        },
        {
          "output_type": "display_data",
          "data": {
            "text/plain": [
              "<Figure size 640x480 with 1 Axes>"
            ],
            "image/png": "[encoded data removed]"
          },
          "metadata": {}
        }
      ],
      "source": [
        "torch.manual_seed(RANDOM_SEED)\n",
        "model = MultilayerPerceptron(num_features=28*28,\n",
        "                             num_hidden_1=NUM_HIDDEN_1,\n",
        "                             num_hidden_2=NUM_HIDDEN_2,\n",
        "                             drop_proba=0.5,\n",
        "                             num_classes=10)\n",
        "model = model.to(DEVICE)\n",
        "\n",
        "optimizer = torch.optim.SGD(model.parameters(), lr=0.1)\n",
        "\n",
        "minibatch_loss_list, train_acc_list, valid_acc_list = train_model(\n",
        "    model=model,\n",
        "    num_epochs=NUM_EPOCHS,\n",
        "    train_loader=train_loader,\n",
        "    valid_loader=valid_loader,\n",
        "    test_loader=test_loader,\n",
        "    optimizer=optimizer,\n",
        "    device=DEVICE)\n",
        "\n",
        "plot_training_loss(minibatch_loss_list=minibatch_loss_list,\n",
        "                   num_epochs=NUM_EPOCHS,\n",
        "                   iter_per_epoch=len(train_loader),\n",
        "                   results_dir=None,\n",
        "                   averaging_iterations=20)\n",
        "plt.show()\n",
        "\n",
        "plot_accuracy(train_acc_list=train_acc_list,\n",
        "              valid_acc_list=valid_acc_list,\n",
        "              results_dir=None)\n",
        "plt.ylim([80, 100])\n",
        "plt.show()"
      ]
    }
  ],
  "metadata": {
    "colab": {
      "provenance": []
    },
    "kernelspec": {
      "display_name": "Python 3",
      "language": "python",
      "name": "python3"
    },
    "language_info": {
      "codemirror_mode": {
        "name": "ipython",
        "version": 3
      },
      "file_extension": ".py",
      "mimetype": "text/x-python",
      "name": "python",
      "nbconvert_exporter": "python",
      "pygments_lexer": "ipython3",
      "version": "3.9.2"
    },
    "toc": {
      "nav_menu": {},
      "number_sections": true,
      "sideBar": true,
      "skip_h1_title": false,
      "title_cell": "Table of Contents",
      "title_sidebar": "Contents",
      "toc_cell": false,
      "toc_position": {},
      "toc_section_display": true,
      "toc_window_display": false
    }
  },
  "nbformat": 4,
  "nbformat_minor": 0
}